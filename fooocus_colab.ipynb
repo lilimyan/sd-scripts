{
  "cells": [
    {
      "cell_type": "markdown",
      "metadata": {
        "id": "view-in-github",
        "colab_type": "text"
      },
      "source": [
        "<a href=\"https://colab.research.google.com/github/lilimyan/sd-scripts/blob/main/fooocus_colab.ipynb\" target=\"_parent\"><img src=\"https://colab.research.google.com/assets/colab-badge.svg\" alt=\"Open In Colab\"/></a>"
      ]
    },
    {
      "cell_type": "markdown",
      "source": [
        "## Init"
      ],
      "metadata": {
        "id": "Uv8objfCxDaF"
      }
    },
    {
      "cell_type": "code",
      "source": [
        "from google.colab import drive\n",
        "drive.mount('/content/drive')\n",
        "!mkdir -p /content/drive/MyDrive/SD/"
      ],
      "metadata": {
        "id": "17ThZW6gexa5"
      },
      "execution_count": null,
      "outputs": []
    },
    {
      "cell_type": "code",
      "execution_count": null,
      "metadata": {
        "id": "VjYy0F2gZIPR"
      },
      "outputs": [],
      "source": [
        "!pip install civitdl\n",
        "!pip install pygit2==1.12.2\n",
        "\n",
        "%cd /content\n",
        "!git clone https://github.com/lllyasviel/Fooocus.git\n",
        "%cd /content/Fooocus\n",
        "\n",
        "!wget -O /content/Fooocus/webui.py            https://raw.githubusercontent.com/lilimyan/sd-scripts/main/webui.py\n",
        "!wget -O /content/Fooocus/modules/config.py   https://raw.githubusercontent.com/lilimyan/sd-scripts/main/config.py\n",
        "!wget -O /content/Fooocus/notification.ogg    https://proxy.notificationsounds.com/message-tones/relax-message-tone/download/file-sounds-1217-relax.ogg\n",
        "\n",
        "loras_dir       = '/content/Fooocus/models/loras/'\n",
        "checkpoints_dir = '/content/Fooocus/models/checkpoints/'\n",
        "controlnet_dir  = '/content/Fooocus/models/controlnet/'\n",
        "embeddings_dir  = '/content/Fooocus/models/embeddings/'\n",
        "models_dir      = '/content/Fooocus/models/checkpoints/'\n",
        "api_key         = 'a9187cb7b4e26eae6c2b0b81f973f872'"
      ]
    },
    {
      "cell_type": "markdown",
      "source": [
        "## Download Assets"
      ],
      "metadata": {
        "id": "TiEZoyqcxGYi"
      }
    },
    {
      "cell_type": "markdown",
      "source": [
        "### Models\n",
        "*Default Animagine v3*"
      ],
      "metadata": {
        "id": "lMBTJxT233gv"
      }
    },
    {
      "cell_type": "code",
      "source": [
        "# Base Models\n",
        "civitdl_params = f'{checkpoints_dir} --api-key {api_key} --no-model-overwrite'\n",
        "\n",
        "!wget -O ./models/checkpoints/animagine-xl-3.0.safetensors https://huggingface.co/cagliostrolab/animagine-xl-3.0/resolve/main/animagine-xl-3.0.safetensors\n",
        "# !civitdl https://civitai.com/models/2583/hassaku-hentai-model {civitdl_params}\n",
        "# !civitdl https://civitai.com/models/4449/abyssorangemix2-nsfw {civitdl_params}\n",
        "# !civitdl https://civitai.com/models/4451/abyssorangemix2-hardcore {civitdl_params}\n",
        "# !civitdl https://civitai.com/models/2583?modelVersionId=106922 {civitdl_params}\n",
        "# !wget -O ./models/checkpoints/RealVisXL_V4.0_Lightning.safetensors https://huggingface.co/SG161222/RealVisXL_V4.0_Lightning/resolve/main/RealVisXL_V4.0_Lightning.safetensors\n",
        "# !wget -O ./models/checkpoints/CounterfeitXL-V2.5.safetensors https://huggingface.co/gsdf/CounterfeitXL-V2.0/blob/main/CounterfeitXL-V2.5.safetensors\n",
        "# !wget -O ./models/checkpoints/Counterfeit-V3.0_fix_fp16.safetensors https://huggingface.co/gsdf/Counterfeit-V3.0/blob/main/Counterfeit-V3.0_fix_fp16.safetensors\n",
        "# !wget -O ./models/checkpoints/anima_pencil-xl-v1.5.0-lcm.safetensors https://huggingface.co/bluepen5805/anima_pencil-XL/resolve/main/anima_pencil-XL-v1.5.0-lcm.safetensors\n",
        "# !wget -O ./models/checkpoints/animaPencilXL_v100.safetensors https://huggingface.co/lllyasviel/fav_models/resolve/main/fav/animaPencilXL_v100.safetensors\n",
        "# !wget -O ./models/checkpoints/hardcore_hentai_13.safetensors https://civitai.com/api/download/models/306531?type=Model&format=SafeTensor&size=pruned&fp=fp32\n",
        "# !wget -O ./models/checkpoints/counterfeit_v3.0.safetensors https://civitai.com/api/download/models/57618?type=Model&format=SafeTensor&size=pruned&fp=fp32\n",
        "# !wget -O ./models/checkpoints/aam_xl_anime_mix.safetensors https://civitai.com/api/download/models/303526?type=Model&format=SafeTensor&size=full&fp=fp16"
      ],
      "metadata": {
        "id": "sDAZ3YqCz_dw"
      },
      "execution_count": null,
      "outputs": []
    },
    {
      "cell_type": "markdown",
      "source": [
        "### Character LoRAs\n",
        "*Default Fischl, HuTao from Genshin Impact*"
      ],
      "metadata": {
        "id": "7-68lsBL4E-M"
      }
    },
    {
      "cell_type": "code",
      "source": [
        "# Character LoRAs\n",
        "civitdl_params = f'{loras_dir} --api-key {api_key} --no-model-overwrite'\n",
        "# | ----------------- Name ----------------- | -Size- | -------- command (put on newline to enable / ctrl+click url to see details) ----------------\n",
        "# | SD Chiori (Genshin Impact)               | 18mb   | !civitdl https://civitai.com/models/321803 {civitdl_params}\n",
        "# | Genshin_XL - Nahida                      | 27mb   |\n",
        "!civitdl https://civitai.com/models/152096 {civitdl_params}\n",
        "\n",
        "# | Genshin_XL - Chevreuse                   | 27mb   | !civitdl https://civitai.com/models/282380 {civitdl_params}\n",
        "# | Genshin_XL - Eula                        | 27mb   | !civitdl https://civitai.com/models/168835 {civitdl_params}\n",
        "# | Genshin_XL - Sangonomiya Kokomi          | 217mb  | !civitdl https://civitai.com/models/162343 {civitdl_params}\n",
        "# | Genshin_XL - Yanfei                      | 54mb   | !civitdl https://civitai.com/models/191511 {civitdl_params}\n",
        "# | Genshin_XL - Barbara                     | 54mb   | !civitdl https://civitai.com/models/175384 {civitdl_params}\n",
        "# | Genshin_XL - yoimiya                     | 54mb   | !civitdl https://civitai.com/models/173840 {civitdl_params}\n",
        "# | Genshin_XL - Fischl                      | 27mb   |\n",
        "!civitdl https://civitai.com/models/187745 {civitdl_params}\n",
        "\n",
        "# | Genshin_XL - Amber                       | 217mb  | !civitdl https://civitai.com/models/165444 {civitdl_params}\n",
        "# | Genshin_XL - Lynette                     | 54mb   | !civitdl https://civitai.com/models/189743 {civitdl_params}\n",
        "# | Genshin_XL - Kuki Shinobu                | 54mb   | !civitdl https://civitai.com/models/187780 {civitdl_params}\n",
        "# | Genshin_XL - Hutao                       | 27mb   |\n",
        "!civitdl https://civitai.com/models/163219 {civitdl_params}\n",
        "\n",
        "# | Genshin_XL - Furina                      | 27mb   | !civitdl https://civitai.com/models/156141 {civitdl_params}\n",
        "# | Genshin_XL - Nilou                       | 54mb   | !civitdl https://civitai.com/models/159752 {civitdl_params}\n",
        "# | Genshin_XL - Shenhe                      | 54mb   | !civitdl https://civitai.com/models/154447 {civitdl_params}\n",
        "# | Honkai: Star Rail - All in One           | 109mb  |\n",
        "!civitdl https://civitai.com/models/302234 {civitdl_params}\n",
        "\n",
        "# | Honkai Impact 3rd - All in One           | 109mb  |\n",
        "!civitdl https://civitai.com/models/305202 {civitdl_params}\n",
        "\n",
        "# | Star Rail XL Pelageya Sergeyevna         | 67mb   | !civitdl https://civitai.com/models/189999 {civitdl_params}\n",
        "# | Star Rail_XL Firefly Trailblazer         | 27mb   | !civitdl https://civitai.com/models/292841 {civitdl_params}\n",
        "# | Star Rail_XL Sparkle                     | 27mb   | !civitdl https://civitai.com/models/309302 {civitdl_params}\n",
        "# | Ijichi Nijika XL                         | 27mb   | !civitdl https://civitai.com/models/206791 {civitdl_params}\n",
        "# | Asuna SAO                                | 27mb   | !civitdl https://civitai.com/models/263099 {civitdl_params}\n",
        "# | Onikata Kayoko Blue Archive              | 27mb   | !civitdl https://civitai.com/models/312154 {civitdl_params}\n",
        "# | Rikuhachima Aru Blue Archive             | 27mb   | !civitdl https://civitai.com/models/312114 {civitdl_params}\n",
        "# | Kisaki Blue Archives                     | 54mb   | !civitdl https://civitai.com/models/169842 {civitdl_params}\n",
        "# | Hayase Yuuka Blue Archive                | 20mb   | !civitdl https://civitai.com/models/202162 {civitdl_params}\n",
        "# | Yutori Natsu Blue Archive                | 20mb   | !civitdl https://civitai.com/models/200859 {civitdl_params}\n",
        "# | Mizuha Mimori Blue Archive               | 67mb   | !civitdl https://civitai.com/models/200806 {civitdl_params}\n",
        "# | XL Shiroko Blue Archive                  | 20mb   | !civitdl https://civitai.com/models/193500 {civitdl_params}\n",
        "# | Rikuhachima Aru Blue Archive             | 20mb   | !civitdl https://civitai.com/models/193561 {civitdl_params}\n",
        "# | Akeboshi Himari Blue Archive             | 20mb   | !civitdl https://civitai.com/models/199861 {civitdl_params}\n",
        "# | Tsukiyuki Miyako Blue Archive            | 20mb   | !civitdl https://civitai.com/models/200834 {civitdl_params}\n",
        "# | Kurumi Tokisaki for SDXL                 | 435mb  | !civitdl https://civitai.com/models/151274 {civitdl_params}\n",
        "# | Shikimori Kawaii Dake Janai Shikimori    | 81mb   | !civitdl https://civitai.com/models/110043 {civitdl_params}\n",
        "# | Clara_Honkai: Star Rail                  | 20mb   | !civitdl https://civitai.com/models/190274 {civitdl_params}"
      ],
      "metadata": {
        "id": "GCXSiHOaWIEl"
      },
      "execution_count": null,
      "outputs": []
    },
    {
      "cell_type": "markdown",
      "source": [
        "### Other LoRAs"
      ],
      "metadata": {
        "id": "jDG4wp5a4VXB"
      }
    },
    {
      "cell_type": "code",
      "source": [
        "# Other LoRAs\n",
        "civitdl_params = f'{loras_dir} --api-key {api_key} --no-model-overwrite'\n",
        "# | ----------------- Name ------------------------------ | -Size- | -------- command (put on newline to enable / ctrl+click url to see details) ----------------\n",
        "# | Scarlet River Whisper                                 | 649mb  | !civitdl https://civitai.com/models/130371 {civitdl_params}\n",
        "# | Looking at viewer - sliders                           | 8mb    | !civitdl https://civitai.com/models/229962 {civitdl_params}\n",
        "# | Anime Original Art Style - Shadow | SDXL              | 27mb   | !civitdl https://civitai.com/models/295522 {civitdl_params}\n",
        "# | Aesthetic Anime LoRA                                  | 324mb  | !civitdl https://civitai.com/models/295100 {civitdl_params}\n",
        "# | PE Anime Background / Landscapes                      | 163mb  |\n",
        "!civitdl https://civitai.com/models/137169 {civitdl_params}\n",
        "# | Neg4All_XL！Both Positive and Negative in one LoRA    | 11mb   | !civitdl https://civitai.com/models/116480 {civitdl_params}\n",
        "\n",
        "# Lewd LoRAs\n",
        "# | ----------------- Name ------------------------------ | -Size- | -------- command (put on newline to enable / ctrl+click url to see details) ----------------\n",
        "# | Spitroast                                             | -      |\n",
        "!civitdl https://civitai.com/models/180915 {civitdl_params}\n",
        "\n",
        "# | Reaching LoRA                                         | -      |\n",
        "!civitdl https://civitai.com/models/46634 {civitdl_params}\n",
        "\n",
        "# | Mixed bathing from behind 一緒にお風呂 (AnimagineXL V3)| 109mb  |\n",
        "!civitdl https://civitai.com/models/320709 {civitdl_params}\n",
        "# | Murky's - Bondage And Dildos LoRA                     | 36mb   |\n",
        "!civitdl https://civitai.com/models/45676 {civitdl_params}\n",
        "# | Kidnapped / bdsm / willing partner                    | 9mb    |\n",
        "!civitdl https://civitai.com/models/113516 {civitdl_params}\n",
        "\n",
        "# | bdsm tied wrists                                      | 9mb    |\n",
        "!civitdl https://civitai.com/models/111966 {civitdl_params}\n",
        "# | Sex Machine                                           | 18mb   | !civitdl https://civitai.com/models/110337 {civitdl_params}\n",
        "# | wooden horse                                          | 18mb   | !civitdl https://civitai.com/models/109655 {civitdl_params}\n",
        "# | Frogtie pose                                          | 72mb   | !civitdl https://civitai.com/models/156348 {civitdl_params}\n",
        "# | BDSM Lash Marks and Spanking                          | 36mb   | !civitdl https://civitai.com/models/138789 {civitdl_params}\n",
        "# | Tentacle Pit                                          | -      |\n",
        "!civitdl https://civitai.com/models/108967 {civitdl_params}\n",
        "\n",
        "# | Concept Tentacle pit                                  | -      |\n",
        "!civitdl https://civitai.com/models/86613 {civitdl_params}\n",
        "# | concept Stuck in tentacle pit                         | -      | !civitdl https://civitai.com/models/83921 {civitdl_params}\n",
        "# | Tentacles                                             | -      | !civitdl https://civitai.com/models/132978 {civitdl_params}\n",
        "# | Bukkake / excessive cum                               | -      | !civitdl https://civitai.com/models/109745 {civitdl_params}\n",
        "# | Bukkake Control                                       | -      |\n",
        "!civitdl https://civitai.com/models/109493 {civitdl_params}\n",
        "\n",
        "# | yuri Lora                                             | 144mb  | !civitdl https://civitai.com/models/148633 {civitdl_params}\n",
        "# | french kiss                                           | 6mb    |\n",
        "!civitdl https://civitai.com/models/24212 {civitdl_params}\n",
        "\n",
        "# | Better Kisses                                         | 74mb   |\n",
        "!civitdl https://civitai.com/models/18489 {civitdl_params}\n",
        "\n",
        "# | SD Yandere Sex | Goofy Ai                             | 18mb   | !civitdl https://civitai.com/models/205709 {civitdl_params}\n",
        "# | SD Naked Hoodie | Goofy Ai                            | 18mb   | !civitdl https://civitai.com/models/275959 {civitdl_params}\n",
        "# | SD Naked Hoodie                                       | 72mb   |\n",
        "!civitdl https://civitai.com/models/199352 {civitdl_params}\n",
        "\n",
        "# | Concept Spread navel                                  | 45mb   |\n",
        "!civitdl https://civitai.com/models/49756 {civitdl_params}\n",
        "# | SDXL Mouth close up                                   | 217mb  |\n",
        "!civitdl https://civitai.com/models/305097 {civitdl_params}\n",
        "\n",
        "# | CervixUncensored XL                                   | 364mb  |\n",
        "!civitdl https://civitai.com/models/276066 {civitdl_params}\n",
        "\n",
        "# | Bra embellishments enhancer for AnimagineXL V3        | 326mb  |\n",
        "!civitdl https://civitai.com/models/291749 {civitdl_params}\n",
        "\n",
        "# | NSFW POV All In One SDXL Mini (Realistic/Anime/WD14)  | 74mb   | !civitdl https://civitai.com/models/144203 {civitdl_params}\n",
        "# | French Kiss LoRA XL                                   | 162mb  |\n",
        "!civitdl https://civitai.com/models/312123 {civitdl_params}\n",
        "\n",
        "# | Peeing with pussy spread XL                           | 94mb   | !civitdl https://civitai.com/models/296635 {civitdl_params}\n",
        "# | pee_XL_animagine                                      | 94mb   |\n",
        "!civitdl https://civitai.com/models/263339 {civitdl_params}\n",
        "\n",
        "# | speculum insertion XL                                 | 30mb   | !civitdl https://civitai.com/models/311333 {civitdl_params}\n",
        "# | Sexy (SDXL) - konyconi                                | 60mb   | !civitdl https://civitai.com/models/145573 {civitdl_params}\n",
        "# | Stationary Restraints for Sexual for SDXL #sexmachine | 163mb  | !civitdl https://civitai.com/models/162333 {civitdl_params}\n",
        "# | FFM threesome XL                                      | 217mb  | !civitdl https://civitai.com/models/288359 {civitdl_params}\n",
        "# | Sex from behind (Sitting&Standing) for SDXL           | 217mb  | !civitdl https://civitai.com/models/145938 {civitdl_params}\n",
        "# | grabbing breasts from behind                          | 324mb  | !civitdl https://civitai.com/models/147143 {civitdl_params}\n",
        "# | Golden Nectar XL                                      | 435mb  | !civitdl https://civitai.com/models/273003 {civitdl_params}\n",
        "# | Sexy clothing collection                              | 625mb  | !civitdl https://civitai.com/models/174870 {civitdl_params}\n",
        "# | NSFW POV All In One SDXL (Realistic/Anime/WD14)       | 1.7gb  | !civitdl https://civitai.com/models/144203 {civitdl_params}\n",
        "# | Missionary pose (anime) | SDXL                        | 1.7gb  | !civitdl https://civitai.com/models/255514 {civitdl_params}"
      ],
      "metadata": {
        "id": "zn6YIkZEFyBu"
      },
      "execution_count": null,
      "outputs": []
    },
    {
      "cell_type": "markdown",
      "source": [
        "### Embedings"
      ],
      "metadata": {
        "id": "DH947SXiWY5l"
      }
    },
    {
      "cell_type": "code",
      "source": [
        "# Embeddings\n",
        "civitdl_params = f'{embeddings_dir} --api-key {api_key} --no-model-overwrite'\n",
        "\n",
        "# negativeXL\n",
        "!civitdl https://civitai.com/models/118418 {civitdl_params}\n",
        "# unaestheticXL | Negative TI\n",
        "!civitdl https://civitai.com/models/119032 {civitdl_params}\n",
        "# SimplePositiveXL\n",
        "!civitdl https://civitai.com/models/118758 {civitdl_params}"
      ],
      "metadata": {
        "id": "LhGoyr4OFijH"
      },
      "execution_count": null,
      "outputs": []
    },
    {
      "cell_type": "markdown",
      "source": [
        "## Extra thing"
      ],
      "metadata": {
        "id": "QFVC14I1xOya"
      }
    },
    {
      "cell_type": "code",
      "source": [
        "import os\n",
        "import glob\n",
        "import json\n",
        "preset_file = '/content/Fooocus/presets/anime.json'\n",
        "styles_file = '/content/Fooocus/sdxl_styles/sdxl_styles_custom.json'\n",
        "model_files = glob.glob(f\"{models_dir}/*.safetensors\")\n",
        "\n",
        "with open(preset_file, 'r') as file:\n",
        "    data = json.load(file)\n",
        "    data['default_model'] = model_files[0]\n",
        "    data['checkpoint_downloads'] = {}\n",
        "    data['default_cfg_scale'] = 5.0\n",
        "    data['default_aspect_ratio'] = '1408*704'\n",
        "    data['default_loras'] = [[\"None\", 0.7],[\"None\", 0.7],[\"None\", 0.7],[\"None\", 0.7],[\"None\", 0.7]]\n",
        "    data['default_prompt'] = \"\"\"\n",
        "a potrait of a girl wearing black bra and white hoodie with beautiful landscape on back,\n",
        "1girl, fischl \\(genshin impact\\), blonde hair, floating hair, long hair, messy hair, ponytail, hair over shoulder,\n",
        "geen eyes, smile, :D, upper teeth, glowing eyes, (large breasts:1.2), bra, black bra, lace bra,\n",
        "upper level, from front, looking at viewer, hoodie, hands in pockets, stomach, navel, sunset, backlighting,\n",
        "vivid, landscape, cinematic lighting, detailed background, (masterpiece, best quality:1.0)\n",
        "\"\"\".strip()\n",
        "\n",
        "    data['default_prompt_negative'] = \"\"\"(embedding:negativeXL_D-mid_118418-vid_134583:0.8),\n",
        "blurry, bad anatomy, disfigured, poorly drawn face, mutation, mutated, (extra_limb)  (ugly), (poorly drawn hands), fused fingers,\n",
        "messy drawing, broken legs censor, censored, censor_bar, multiple breasts, (mutated hands and fingers:1.5), (long body :1.3),\n",
        "(mutation, poorly drawn :1.2), black-white, liquid body, liquid tongue, malformed, anatomical nonsense, text font ui, error,\n",
        "malformed hands, long neck, blurred, lowers, low res, bad proportions, bad shadow, uncoordinated body, unnatural body, fused breasts,\n",
        "bad breasts, huge breasts, poorly drawn breasts, extra breasts, liquid breasts, missing breasts, huge haunch, huge thighs, huge calf,\n",
        "bad hands, fused hand, missing hand, disappearing arms, disappearing thigh, disappearing calf, disappearing legs, fused ears, bad ears,\n",
        "poorly drawn ears, extra ears, liquid ears, heavy ears, missing ears, fused animal ears, bad animal ears\"\"\".strip()\n",
        "\n",
        "with open(preset_file, 'w') as file:\n",
        "    json.dump(data, file, indent=4)\n",
        "\n",
        "custom_styles = [{\n",
        "    \"name\": \"Anime\",\n",
        "    \"prompt\": \"{prompt}, illustration, disheveled hair, detailed eyes, perfect composition, moist skin, intricate details, by wlop, newest, late, masterpiece, best quality\",\n",
        "    \"negative_prompt\": \"longbody, lowres, bad anatomy, bad hands, missing fingers, earings, extra digit, fewer digits, cropped, worst quality, low quality, oversaturated, undersaturated, overexposed, underexposed\"\n",
        "  }]\n",
        "with open(styles_file, 'w') as file:\n",
        "    json.dump(custom_styles, file, indent=4)\n"
      ],
      "metadata": {
        "id": "3QEyJhbj2u7I"
      },
      "execution_count": null,
      "outputs": []
    },
    {
      "cell_type": "markdown",
      "source": [
        "## Run"
      ],
      "metadata": {
        "id": "VD8gE6vTxc0b"
      }
    },
    {
      "cell_type": "code",
      "source": [
        "!python entry_with_update.py \\\n",
        "  --share \\\n",
        "  --preset anime \\\n",
        "  --output-path /content/drive/MyDrive/SD/"
      ],
      "metadata": {
        "id": "ps8VBuGuOk_l"
      },
      "execution_count": null,
      "outputs": []
    }
  ],
  "metadata": {
    "accelerator": "GPU",
    "colab": {
      "gpuType": "T4",
      "provenance": [],
      "include_colab_link": true
    },
    "kernelspec": {
      "display_name": "Python 3",
      "name": "python3"
    },
    "language_info": {
      "name": "python"
    }
  },
  "nbformat": 4,
  "nbformat_minor": 0
}