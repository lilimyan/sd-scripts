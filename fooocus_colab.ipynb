{
  "cells": [
    {
      "cell_type": "markdown",
      "metadata": {
        "id": "view-in-github",
        "colab_type": "text"
      },
      "source": [
        "<a href=\"https://colab.research.google.com/github/lilimyan/sd-scripts/blob/main/fooocus_colab.ipynb\" target=\"_parent\"><img src=\"https://colab.research.google.com/assets/colab-badge.svg\" alt=\"Open In Colab\"/></a>"
      ]
    },
    {
      "cell_type": "markdown",
      "source": [
        "## Init"
      ],
      "metadata": {
        "id": "Uv8objfCxDaF"
      }
    },
    {
      "cell_type": "code",
      "source": [
        "from google.colab import drive\n",
        "drive.mount('/content/drive')\n",
        "!mkdir -p /content/drive/MyDrive/SD/"
      ],
      "metadata": {
        "id": "17ThZW6gexa5"
      },
      "execution_count": null,
      "outputs": []
    },
    {
      "cell_type": "code",
      "execution_count": null,
      "metadata": {
        "id": "VjYy0F2gZIPR"
      },
      "outputs": [],
      "source": [
        "!pip install pygit2==1.12.2\n",
        "!pip install civitdl\n",
        "\n",
        "%cd /content\n",
        "!git clone https://github.com/lllyasviel/Fooocus.git\n",
        "%cd /content/Fooocus\n",
        "!wget -O /content/Fooocus/webui.py https://raw.githubusercontent.com/lilimyan/sd-scripts/main/webui.py\n",
        "!wget -O /content/Fooocus/modules/config.py https://raw.githubusercontent.com/lilimyan/sd-scripts/main/config.py\n",
        "\n",
        "loras_dir = '/content/Fooocus/models/loras/'\n",
        "controlnet_dir = '/content/Fooocus/models/controlnet/'\n",
        "embeddings_dir = '/content/Fooocus/models/embeddings/'\n",
        "models_dir = '/content/Fooocus/models/checkpoints/'\n",
        "api_key = 'a9187cb7b4e26eae6c2b0b81f973f872'"
      ]
    },
    {
      "cell_type": "markdown",
      "source": [
        "## Download Assets"
      ],
      "metadata": {
        "id": "TiEZoyqcxGYi"
      }
    },
    {
      "cell_type": "markdown",
      "source": [
        "### Models\n",
        "*Default Animagine v3*"
      ],
      "metadata": {
        "id": "lMBTJxT233gv"
      }
    },
    {
      "cell_type": "code",
      "source": [
        "# Models\n",
        "!wget -O ./models/checkpoints/animagine-xl-3.0.safetensors https://huggingface.co/cagliostrolab/animagine-xl-3.0/resolve/main/animagine-xl-3.0.safetensors\n",
        "# !wget -O ./models/checkpoints/anima_pencil-xl-v1.5.0-lcm.safetensors https://huggingface.co/bluepen5805/anima_pencil-XL/resolve/main/anima_pencil-XL-v1.5.0-lcm.safetensors\n",
        "# !wget -O ./models/checkpoints/animaPencilXL_v100.safetensors https://huggingface.co/lllyasviel/fav_models/resolve/main/fav/animaPencilXL_v100.safetensors\n",
        "# !wget -O ./models/checkpoints/hardcore_hentai_13.safetensors https://civitai.com/api/download/models/306531?type=Model&format=SafeTensor&size=pruned&fp=fp32\n",
        "# !wget -O ./models/checkpoints/counterfeit_v3.0.safetensors https://civitai.com/api/download/models/57618?type=Model&format=SafeTensor&size=pruned&fp=fp32\n",
        "# !wget -O ./models/checkpoints/aam_xl_anime_mix.safetensors https://civitai.com/api/download/models/303526?type=Model&format=SafeTensor&size=full&fp=fp16"
      ],
      "metadata": {
        "id": "sDAZ3YqCz_dw"
      },
      "execution_count": null,
      "outputs": []
    },
    {
      "cell_type": "markdown",
      "source": [
        "### Character LoRAs\n",
        "*Default Fischl, HuTao from Genshin Impact*"
      ],
      "metadata": {
        "id": "7-68lsBL4E-M"
      }
    },
    {
      "cell_type": "code",
      "source": [
        "# Character LoRAs\n",
        "civitdl_params = f'{loras_dir} --api-key {api_key} --no-model-overwrite'\n",
        "# | ----------------- Name ------------------------------ | -Size- | -------- command (put on newline to enable / ctrl+click url to see details) ----------------\n",
        "# | SD Chiori (Genshin Impact)                            | 18mb   | !civitdl https://civitai.com/models/321803/chiori-genshin-impact-or-goofy-ai?modelVersionId=360836 {civitdl_params}\n",
        "# | Genshin_XL - Nahida                                   | 27mb   | !civitdl https://civitai.com/models/152096/genshinxl-nahida {civitdl_params}\n",
        "# | Genshin_XL - Chevreuse                                | 27mb   | !civitdl https://civitai.com/models/282380/genshinxl-chevreuse-genshin-impact {civitdl_params}\n",
        "# | Genshin_XL - Eula                                     | 27mb   | !civitdl https://civitai.com/models/168835/genshinxl-eula {civitdl_params}\n",
        "# | Genshin_XL - Sangonomiya Kokomi                       | 217mb  | !civitdl https://civitai.com/models/162343/genshinxl-sangonomiya-kokomi {civitdl_params}\n",
        "# | Genshin_XL - Yanfei                                   | 54mb   | !civitdl https://civitai.com/models/191511/genshinxl-yanfei-genshin-impact {civitdl_params}\n",
        "# | Genshin_XL - Barbara                                  | 54mb   | !civitdl https://civitai.com/models/175384/genshinxl-barbara-genshin-impact {civitdl_params}\n",
        "# | Genshin_XL - yoimiya                                  | 54mb   | !civitdl https://civitai.com/models/173840/genshinxl-yoimiya-genshin-impact {civitdl_params}\n",
        "# | Genshin_XL - Fischl                                   | 27mb   |\n",
        "!civitdl https://civitai.com/models/187745/genshinxl-fischl-genshin-impact {civitdl_params}\n",
        "# | Genshin_XL - Amber                                    | 217mb  | !civitdl https://civitai.com/models/165444/genshinxl-amber {civitdl_params}\n",
        "# | Genshin_XL - Lynette                                  | 54mb   | !civitdl https://civitai.com/models/189743/genshinxl-lynette-genshin-impact {civitdl_params}\n",
        "# | Genshin_XL - Kuki Shinobu                             | 54mb   | !civitdl https://civitai.com/models/187780/genshinxl-kuki-shinobu-genshin-impact {civitdl_params}\n",
        "# | Genshin_XL - Hutao                                    | 27mb   |\n",
        "!civitdl https://civitai.com/models/163219/genshinxl-hutao {civitdl_params}\n",
        "# | Genshin_XL - Furina                                   | 27mb   | !civitdl https://civitai.com/models/156141/genshinxlfurina-and-focalors-or-and {civitdl_params}\n",
        "# | Genshin_XL - Nilou                                    | 54mb   | !civitdl https://civitai.com/models/159752/genshinxl-nilou {civitdl_params}\n",
        "# | Genshin_XL - Shenhe                                   | 54mb   | !civitdl https://civitai.com/models/154447/genshinxl-shenhe {civitdl_params}\n",
        "# | Honkai: Star Rail - All in One                        | 109mb  | !civitdl https://civitai.com/models/302234/honkai-star-rail-all-in-one {civitdl_params}\n",
        "# | Honkai Impact 3rd - All in One                        | 109mb  | !civitdl https://civitai.com/models/305202/honkai-impact-3rd-all-in-one-3-kiana-kaslana-raiden-mei-bronya-zaychik-theresa-apocalypse-murata-himeko-yae-sakura-kallen-kaslana-fu-hua-rozaliya-olenyeva-liliya-olenyeva-rita-rossweisse-durandal {civitdl_params}\n",
        "# | Star Rail XL Pelageya Sergeyevna                      | 67mb   | !civitdl https://civitai.com/models/189999/xlpelageya-sergeyevnahonkai-star-rail {civitdl_params}\n",
        "# | Star Rail_XL Firefly Trailblazer                      | 27mb   | !civitdl https://civitai.com/models/292841/star-railxl-firefly-trailblazer {civitdl_params}\n",
        "# | Star Rail_XL Sparkle                                  | 27mb   | !civitdl https://civitai.com/models/309302/star-railxl-sparkle-honkai-star-rail {civitdl_params}\n",
        "# | Ijichi Nijika XL                                      | 27mb   | !civitdl https://civitai.com/models/206791/ijichi-nijika-xl {civitdl_params}\n",
        "# | Asuna SAO                                             | 27mb   | !civitdl https://civitai.com/models/263099/asuna-sao-sword-art-online-yuki-asuna {civitdl_params}\n",
        "# | Onikata Kayoko Blue Archive                           | 27mb   | !civitdl https://civitai.com/models/312154/onikata-kayoko-dress-blue-archive-0 {civitdl_params}\n",
        "# | Rikuhachima Aru Blue Archive                          | 27mb   | !civitdl https://civitai.com/models/312114/rikuhachima-aru-dress-blue-archive  {civitdl_params}\n",
        "# | Kisaki Blue Archives                                  | 54mb   | !civitdl https://civitai.com/models/169842/blue-archivesxl {civitdl_params}\n",
        "# | Hayase Yuuka Blue Archive                             | 20mb   | !civitdl https://civitai.com/models/202162/xl-hayase-yuuka-or-blue-archive {civitdl_params}\n",
        "# | Yutori Natsu Blue Archive                             | 20mb   | !civitdl https://civitai.com/models/200859/xl-yutori-natsu-or-blue-archive {civitdl_params}\n",
        "# | Mizuha Mimori Blue Archive                            | 67mb   | !civitdl https://civitai.com/models/200806/xl-mizuha-mimori-or-blue-archive {civitdl_params}\n",
        "# | XL Shiroko Blue Archive                               | 20mb   | !civitdl https://civitai.com/models/193500/xl-shiroko-orblue-archive {civitdl_params}\n",
        "# | Rikuhachima Aru Blue Archive                          | 20mb   | !civitdl https://civitai.com/models/193561/xl-rikuhachima-aru-blue-archive {civitdl_params}\n",
        "# | Akeboshi Himari Blue Archive                          | 20mb   | !civitdl https://civitai.com/models/199861/xl-akeboshi-himari-or-blue-archive {civitdl_params}\n",
        "# | Tsukiyuki Miyako Blue Archive                         | 20mb   | !civitdl https://civitai.com/models/200834/xl-tsukiyuki-miyako-or-blue-archive {civitdl_params}\n",
        "# | Kurumi Tokisaki for SDXL                              | 435mb  | !civitdl https://civitai.com/models/151274/kurumi-tokisaki-for-sdxl {civitdl_params}\n",
        "# | Shikimori Kawaii Dake Janai Shikimori                 | 81mb   | !civitdl https://civitai.com/models/110043/shikimori-or-kawaii-dake-janai-shikimori-san {civitdl_params}\n",
        "# | Clara_Honkai: Star Rail                               | 20mb   | !civitdl https://civitai.com/models/190274/xlclarahonkai-star-rail {civitdl_params}"
      ],
      "metadata": {
        "id": "GCXSiHOaWIEl"
      },
      "execution_count": null,
      "outputs": []
    },
    {
      "cell_type": "markdown",
      "source": [
        "### Other LoRAs"
      ],
      "metadata": {
        "id": "jDG4wp5a4VXB"
      }
    },
    {
      "cell_type": "code",
      "source": [
        "# Other LoRAs\n",
        "civitdl_params = f'{loras_dir} --api-key {api_key} --no-model-overwrite'\n",
        "# | ----------------- Name ------------------------------ | -Size- | -------- command (put on newline to enable / ctrl+click url to see details) ----------------\n",
        "# | Scarlet River Whisper                                 | 649mb  | !civitdl https://civitai.com/models/130371/scarlet-river-whisper {civitdl_params}\n",
        "# | Looking at viewer - sliders                           | 8mb    | !civitdl https://civitai.com/models/229962/looking-at-viewer-sliders-ntcaixyz {civitdl_params}\n",
        "# | Anime Original Art Style - Shadow | SDXL              | 27mb   | !civitdl https://civitai.com/models/295522/anime-original-art-style-shadow-or-sdxl {civitdl_params}\n",
        "# | Aesthetic Anime LoRA                                  | 324mb  | !civitdl https://civitai.com/models/295100/aesthetic-anime-lora {civitdl_params}\n",
        "# | PE Anime Background / Landscapes                      | 163mb  |\n",
        "!civitdl https://civitai.com/models/137169/pe-anime-background-landscapes-style {civitdl_params}\n",
        "# | Neg4All_XL！Both Positive and Negative in one LoRA    | 11mb   | !civitdl https://civitai.com/models/116480/sdxl10neg4allxlboth-positive-high-qualitydetails-and-negative-worse-qualitybad-hand-in-one-lora {civitdl_params}\n",
        "\n",
        "# Lewd LoRAs\n",
        "# | ----------------- Name ------------------------------ | -Size- | -------- command (put on newline to enable / ctrl+click url to see details) ----------------\n",
        "# | Murky's - Bondage And Dildos LoRA                     | 36mb   | !civitdl https://civitai.com/models/45676/murkys-bondage-and-dildos-lora {civitdl_params}\n",
        "# | Kidnapped / bdsm / willing partner                    | 9mb    | !civitdl https://civitai.com/models/113516/kidnapped-bdsm-willing-partner {civitdl_params}\n",
        "# | bdsm tied wrists                                      | 9mb    | !civitdl https://civitai.com/models/111966/bdsm-tied-wrists-or-2 {civitdl_params}\n",
        "# | Sex Machine                                           | 18mb   | !civitdl https://civitai.com/models/110337/sex-machine {civitdl_params}\n",
        "# | wooden horse                                          | 18mb   | !civitdl https://civitai.com/models/109655/wooden-horse {civitdl_params}\n",
        "# | Frogtie pose                                          | 72mb   | !civitdl https://civitai.com/models/156348/frogtie-pose {civitdl_params}\n",
        "# | BDSM Lash Marks and Spanking                          | 36mb   | !civitdl https://civitai.com/models/138789/bdsm-lash-marks-and-spanking {civitdl_params}\n",
        "# | Tentacle Pit                                          | -      | !civitdl https://civitai.com/models/108967/tentacle-pit {civitdl_params}\n",
        "# | Concept Tentacle pit                                  | -      | !civitdl https://civitai.com/models/86613/concepttentacle-pitor {civitdl_params}\n",
        "# | concept Stuck in tentacle pit                         | -      | !civitdl https://civitai.com/models/83921/concept-stuck-in-tentacle-pit-with-sensory-deprivation {civitdl_params}\n",
        "# | Tentacles                                             | -      | !civitdl https://civitai.com/models/132978/tentacles {civitdl_params}\n",
        "# | Bukkake / excessive cum                               | -      | !civitdl https://civitai.com/models/109745/bukkake-excessive-cum {civitdl_params}\n",
        "# | Bukkake Control                                       | -      | !civitdl https://civitai.com/models/109493/bukkake-control {civitdl_params}\n",
        "# | yuri Lora                                             | 144mb  | !civitdl https://civitai.com/models/148633/yuri-lora {civitdl_params}\n",
        "# | french kiss                                           | 6mb    |\n",
        "!civitdl https://civitai.com/models/24212/french-kiss {civitdl_params}\n",
        "# | Better Kisses                                         | 74mb   |\n",
        "!civitdl https://civitai.com/models/18489/better-kisses {civitdl_params}\n",
        "# | SD Yandere Sex | Goofy Ai                             | 18mb   | !civitdl https://civitai.com/models/205709/yandere-sex-or-goofy-ai?modelVersionId=231606 {civitdl_params}\n",
        "# | SD Naked Hoodie | Goofy Ai                            | 18mb   | !civitdl https://civitai.com/models/275959/naked-hoodie-or-goofy-ai {civitdl_params}\n",
        "# | SD Naked Hoodie                                       | 72mb   |\n",
        "!civitdl https://civitai.com/models/199352/naked-hoodie {civitdl_params}\n",
        "# | Concept Spread navel                                  | 45mb   | !civitdl https://civitai.com/models/49756/concept-spread-navel {civitdl_params}\n",
        "# | SDXL Mouth close up                                   | 217mb  |\n",
        "!civitdl https://civitai.com/models/305097/sdxl-mouth-close-up {civitdl_params}\n",
        "# | CervixUncensored XL                                   | 364mb  |\n",
        "!civitdl https://civitai.com/models/276066/cervixuncensored-xl {civitdl_params}\n",
        "# | Bra embellishments enhancer for AnimagineXL V3        | 326mb  |\n",
        "!civitdl https://civitai.com/models/291749/bra-embellishments-enhancer-for-animaginexl-v3 {civitdl_params}\n",
        "# | NSFW POV All In One SDXL Mini (Realistic/Anime/WD14)  | 74mb   | !civitdl https://civitai.com/models/144203?modelVersionId=160230 {civitdl_params}\n",
        "# | French Kiss LoRA XL                                   | 162mb  |\n",
        "!civitdl https://civitai.com/models/312123/french-kiss-lora-xl {civitdl_params}\n",
        "# | Peeing with pussy spread XL                           | 94mb   |\n",
        "!civitdl https://civitai.com/models/296635/peeing-with-pussy-spread-xl-pony {civitdl_params}\n",
        "# | FFM threesome XL                                      | 217mb  | !civitdl https://civitai.com/models/288359/ffm-threesome-xl {civitdl_params}\n",
        "# | pee_XL_animagine                                      | 94mb   |\n",
        "!civitdl https://civitai.com/models/263339/peexlanimagine {civitdl_params}\n",
        "# | Golden Nectar XL                                      | 435mb  | !civitdl https://civitai.com/models/273003/golden-nectar-xl {civitdl_params}\n",
        "# | grabbing breasts from behind                          | 324mb  | !civitdl https://civitai.com/models/147143/grabbing-breasts-from-behind {civitdl_params}\n",
        "# | speculum insertion XL                                 | 30mb   | !civitdl https://civitai.com/models/311333/speculum-insertion-xl {civitdl_params}\n",
        "# | NSFW POV All In One SDXL (Realistic/Anime/WD14)       | 1.7gb  | !civitdl https://civitai.com/models/144203/nsfw-pov-all-in-one-sdxl-realisticanimewd14-74mb-version-available {civitdl_params}\n",
        "# | Sexy clothing collection                              | 625mb  | !civitdl https://civitai.com/models/174870/sexy-clothing-collection {civitdl_params}\n",
        "# | Sex from behind (Sitting&Standing) for SDXL           | 217mb  | !civitdl https://civitai.com/models/145938/sex-from-behind-sittingandstanding-for-sdxl {civitdl_params}\n",
        "# | Stationary Restraints for Sexual for SDXL #sexmachine | 163mb  | !civitdl https://civitai.com/models/162333/stationary-restraints-for-sexual-for-sdxl-sexmachine  {civitdl_params}\n",
        "# | Sexy (SDXL) - konyconi                                | 60mb   | !civitdl https://civitai.com/models/145573/sexy-sdxl-konyconi {civitdl_params}\n",
        "# | Missionary pose (anime) | SDXL                        | 1.7gb  | !civitdl https://civitai.com/models/255514/missionary-pose-anime-or-sdxl {civitdl_params}"
      ],
      "metadata": {
        "id": "zn6YIkZEFyBu"
      },
      "execution_count": null,
      "outputs": []
    },
    {
      "cell_type": "markdown",
      "source": [
        "### ImageNet Poses\n",
        "*Unfortunately it dsnt support foocus*"
      ],
      "metadata": {
        "id": "HVoq-sjSWIoz"
      }
    },
    {
      "cell_type": "code",
      "source": [
        "# Poses\n",
        "civitdl_params = f'{controlnet_dir} --api-key {api_key} --no-model-overwrite'\n",
        "# | ----------------- Name ------------------- | -Size- | -------- command (put on newline to enable / ctrl+click url to see details) ----------------\n",
        "# NSFW anime poses                             | 414mb  | !civitdl https://civitai.com/models/123134/depth-nsfw-anime-poses-prompt-examplessettings {civitdl_params}\n",
        "# 100 lewd poses for OpenPose ControlNet       | 214mb  | !civitdl https://civitai.com/models/86641/100-lewd-poses-for-openpose-controlnet {civitdl_params}\n",
        "# [OpenPose] From above                        | 22mb   | !civitdl https://civitai.com/models/129435/openpose-from-above {civitdl_params}\n",
        "# GroupPose                                    | 17mb   | !civitdl https://civitai.com/models/78826/grouppose {civitdl_params}\n",
        "# [OpenPose] [NSFW] Presenting/Sex invitation  | 9mb    | !civitdl https://civitai.com/models/211253/openpose-nsfw-presentingsex-invitation {civitdl_params}\n",
        "# [OpenPose] [NSFW] Presenting/Sex invitation  | 9mb    | !civitdl https://civitai.com/models/211253/openpose-nsfw-presentingsex-invitation {civitdl_params}\n",
        "# [OpenPose] Covering breasts/crotch           | 12mb   | !civitdl https://civitai.com/models/145560/openpose-covering-breastscrotch {civitdl_params}\n",
        "# [OpenPose] Standing split                    | 9mb    | !civitdl https://civitai.com/models/140201/openpose-standing-split {civitdl_params}\n",
        "# [OpenPose] All fours                         | 23mb   | !civitdl https://civitai.com/models/131155/openpose-all-fours {civitdl_params}\n",
        "# [OpenPose] Ass support                       | 8mb    | !civitdl https://civitai.com/models/147261/openpose-ass-support {civitdl_params}\n",
        "# [OpenPose] From below                        | 28mb   | !civitdl https://civitai.com/models/130644/openpose-from-below {civitdl_params}\n",
        "# [OpenPose] Leaning forward                   | 48mb   | !civitdl https://civitai.com/models/135053/openpose-leaning-forward {civitdl_params}\n",
        "# [OpenPose] Crossed legs                      | 14mb   | !civitdl https://civitai.com/models/139618/openpose-crossed-legs {civitdl_params}\n",
        "# [OpenPose] Contrapposto                      | 40mb   | !civitdl https://civitai.com/models/136185/openpose-contrapposto {civitdl_params}\n",
        "# [OpenPose] Sitting                           | 59     | !civitdl https://civitai.com/models/130145/openpose-sitting {civitdl_params}\n",
        "# [OpenPose] Wariza                            | 23     | !civitdl https://civitai.com/models/138079/openpose-wariza {civitdl_params}\n",
        "# [OpenPose] From side                         | 25mb   | !civitdl https://civitai.com/models/132324/openpose-from-side {civitdl_params}\n",
        "# [OpenPose] Hugging own legs                  | 12mb   | !civitdl https://civitai.com/models/139761/openpose-hugging-own-legs {civitdl_params}\n",
        "# [OpenPose] Crossed arms                      | 16mb   | !civitdl https://civitai.com/models/139509/openpose-crossed-arms {civitdl_params}\n",
        "# OpenPose: pantyshot                          | 3mb    | !civitdl https://civitai.com/models/122442/openpose-pantyshot-leaning-forward-arms-behind-back-looking-down {civitdl_params}\n",
        "# [OpenPose] Jumping                           | 24mb   | !civitdl https://civitai.com/models/132242/openpose-jumping {civitdl_params}\n",
        "# [OpenPose] Hands on own hips                 | 11     | !civitdl https://civitai.com/models/147743/openpose-hands-on-own-hips {civitdl_params}\n",
        "# [OpenPose] Incoming hug                      | 4mb    | !civitdl https://civitai.com/models/199989/openpose-incoming-hug {civitdl_params}\n",
        "# [OpenPose] Seiza                             | 17mb   | !civitdl https://civitai.com/models/137709/openpose-seiza {civitdl_params}\n",
        "# [OpenPose] Reaching towards viewer           | 17mb   | !civitdl https://civitai.com/models/134075/openpose-reaching-towards-viewer {civitdl_params}\n",
        "# [OpenPose] Hug                               | 29mb   | !civitdl https://civitai.com/models/136853/openpose-hug {civitdl_params}\n",
        "# [OpenPose] Selfie                            | 10mb   | !civitdl https://civitai.com/models/161558/openpose-selfie {civitdl_params}\n",
        "# [OpenPose] Paw/Claw poses                    | 28mb   | !civitdl https://civitai.com/models/133809/openpose-pawclaw-poses {civitdl_params}\n",
        "# [OpenPose] Adjusting hair/Hand in own hair   | 12mb   | !civitdl https://civitai.com/models/203686/openpose-adjusting-hairhand-in-own-hair {civitdl_params}\n",
        "# [OpenPose] Carrying person                   | 14mb   | !civitdl https://civitai.com/models/140628/openpose-carrying-person {civitdl_params}\n",
        "# [OpenPose] Yawning, stretching               | 7mb    | !civitdl https://civitai.com/models/153915/openpose-yawning-stretching {civitdl_params}\n",
        "# [OpenPose] Knees together feet apart         | 10mb   | !civitdl https://civitai.com/models/191514/openpose-knees-together-feet-apart {civitdl_params}\n",
        "# [OpenPose] Back to back                      | 16mb   | !civitdl https://civitai.com/models/140112/openpose-back-to-back {civitdl_params}\n",
        "# [OpenPose + Canny] Holding paper             | 8mb    | !civitdl https://civitai.com/models/143418/openpose-canny-holding-paper {civitdl_params}\n",
        "# [OpenPose] Covering face                     | 14mb   | !civitdl https://civitai.com/models/141689/openpose-covering-face {civitdl_params}\n",
        "# [OpenPose + Lineart] Mugshot                 | 2mb    | !civitdl https://civitai.com/models/148201/openpose-lineart-mugshot {civitdl_params}\n",
        "# [OpenPose] T pose                            | 5mb    | !civitdl https://civitai.com/models/151965/openpose-t-pose {civitdl_params}\n",
        "# [OpenPose + Canny] POV Holding hands         | 1mb    | !civitdl https://civitai.com/models/142711/openpose-canny-pov-holding-hands {civitdl_params}\n",
        "# [OpenPose] Cover, solo/duo                   | 14mb   | !civitdl https://civitai.com/models/167868/openpose-cover-soloduo {civitdl_params}"
      ],
      "metadata": {
        "id": "5UBMuea8uzqb"
      },
      "execution_count": null,
      "outputs": []
    },
    {
      "cell_type": "markdown",
      "source": [
        "### Embedings"
      ],
      "metadata": {
        "id": "DH947SXiWY5l"
      }
    },
    {
      "cell_type": "code",
      "source": [
        "# Embeddings\n",
        "civitdl_params = f'{embeddings_dir} --api-key {api_key} --no-model-overwrite'\n",
        "# negativeXL\n",
        "!civitdl https://civitai.com/models/118418/negativexl?modelVersionId=134583 {civitdl_params}\n",
        "# unaestheticXL | Negative TI\n",
        "!civitdl https://civitai.com/models/119032/unaestheticxl-or-negative-ti?modelVersionId=302265 {civitdl_params}\n",
        "# SimplePositiveXL\n",
        "!civitdl https://civitai.com/models/118758/simplepositivexl?modelVersionId=182974 {civitdl_params}"
      ],
      "metadata": {
        "id": "LhGoyr4OFijH"
      },
      "execution_count": null,
      "outputs": []
    },
    {
      "cell_type": "markdown",
      "source": [
        "## Extra thing"
      ],
      "metadata": {
        "id": "QFVC14I1xOya"
      }
    },
    {
      "cell_type": "code",
      "source": [
        "# Remove unecessary styles\n",
        "# !rm /content/Fooocus/sdxl_styles/sdxl_styles_diva.json\n",
        "# !rm /content/Fooocus/sdxl_styles/sdxl_styles_marc_k3nt3l.json\n",
        "# !rm /content/Fooocus/sdxl_styles/sdxl_styles_mre.json\n",
        "# !rm /content/Fooocus/sdxl_styles/sdxl_styles_sai.json\n",
        "# !rm /content/Fooocus/sdxl_styles/sdxl_styles_twri.json"
      ],
      "metadata": {
        "id": "XwgmLLJrpjS_"
      },
      "execution_count": null,
      "outputs": []
    },
    {
      "cell_type": "code",
      "source": [
        "import os\n",
        "import glob\n",
        "import json\n",
        "preset_file = '/content/Fooocus/presets/anime.json'\n",
        "styles_file = '/content/Fooocus/sdxl_styles/sdxl_styles_custom.json'\n",
        "model_files = glob.glob(f\"{models_dir}/*.safetensors\")\n",
        "\n",
        "with open(preset_file, 'r') as file:\n",
        "    data = json.load(file)\n",
        "    data['default_model'] = model_files[0]\n",
        "    data['checkpoint_downloads'] = {}\n",
        "    data['default_cfg_scale'] = 5.0\n",
        "    data['default_aspect_ratio'] = '1408*704'\n",
        "    data['default_styles'] = [\"Fooocus V2\",\"NFSW\",\"Fooocus Masterpiece\"]\n",
        "    data['default_prompt'] = \"a potrait of a girl wearing black bra and white hoodie with beautiful landscape on back  1girl, lynette \\(genshin impact\\), white hair, floating hair, long hair, messy hair, ponytail, hair over shoulder, purple eyes, smile, :D, upper teeth, glowing eyes, (large breasts:1.2), bra, black bra, lace bra, upper level, from front, looking at viewer, hoodie, hands in pockets, stomach, navel, sunset, backlighting, vivid, landscape, cinematic lighting, detailed background, (masterpiece, best quality:1.0)\"\n",
        "    data['default_prompt_negative'] = \"(embedding:negativeXL_D-mid_118418-vid_134583:0.8),blurry, bad anatomy, disfigured, poorly drawn face, mutation, mutated, (extra_limb)  (ugly), (poorly drawn hands), fused fingers, messy drawing, broken legs censor, censored, censor_bar, multiple breasts, (mutated hands and fingers:1.5), (long body :1.3), (mutation, poorly drawn :1.2), black-white, liquid body, liquid tongue, malformed, anatomical nonsense, text font ui, error, malformed hands, long neck, blurred, lowers, low res, bad proportions, bad shadow, uncoordinated body, unnatural body, fused breasts, bad breasts, huge breasts, poorly drawn breasts, extra breasts, liquid breasts, missing breasts, huge haunch, huge thighs, huge calf, bad hands, fused hand, missing hand, disappearing arms, disappearing thigh, disappearing calf, disappearing legs, fused ears, bad ears, poorly drawn ears, extra ears, liquid ears, heavy ears, missing ears, fused animal ears, bad animal ears\"\n",
        "with open(preset_file, 'w') as file:\n",
        "    json.dump(data, file, indent=4)\n",
        "\n",
        "custom_styles = [{\n",
        "    \"name\": \"NFSW\",\n",
        "    \"prompt\": \"{prompt}, nude, erotic, lewd, nfsw, illustration, disheveled hair, detailed eyes, perfect composition, moist skin, intricate details, by wlop, newest, late, masterpiece, best quality\",\n",
        "    \"negative_prompt\": \"longbody, lowres, bad anatomy, bad hands, missing fingers, earings, extra digit, fewer digits, cropped, worst quality, low quality, oversaturated, undersaturated, overexposed, underexposed\"\n",
        "  }]\n",
        "with open(styles_file, 'w') as file:\n",
        "    json.dump(custom_styles, file, indent=4)\n"
      ],
      "metadata": {
        "id": "3QEyJhbj2u7I"
      },
      "execution_count": null,
      "outputs": []
    },
    {
      "cell_type": "markdown",
      "source": [
        "## Run"
      ],
      "metadata": {
        "id": "VD8gE6vTxc0b"
      }
    },
    {
      "cell_type": "code",
      "source": [
        "!python entry_with_update.py \\\n",
        "  --share \\\n",
        "  --preset anime \\\n",
        "  --output-path /content/drive/MyDrive/SD/"
      ],
      "metadata": {
        "id": "ps8VBuGuOk_l"
      },
      "execution_count": null,
      "outputs": []
    }
  ],
  "metadata": {
    "accelerator": "GPU",
    "colab": {
      "gpuType": "T4",
      "provenance": [],
      "include_colab_link": true
    },
    "kernelspec": {
      "display_name": "Python 3",
      "name": "python3"
    },
    "language_info": {
      "name": "python"
    }
  },
  "nbformat": 4,
  "nbformat_minor": 0
}